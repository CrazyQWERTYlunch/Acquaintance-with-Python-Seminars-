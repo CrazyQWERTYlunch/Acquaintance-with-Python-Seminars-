{
 "cells": [
  {
   "cell_type": "markdown",
   "id": "f29c0624",
   "metadata": {},
   "source": [
    "Задание: \n",
    "\n",
    "f(x) = -5*x**2 + 10*x - 150\n",
    "\n",
    "1. Определить корни\n",
    "\n",
    "2. Найти интервалы, на которых функция возрастает\n",
    "\n",
    "3. Найти интервалы, на которых функция убывает\n",
    "\n",
    "4. Построить график\n",
    "\n",
    "5. Вычислить вершину\n",
    "\n",
    "6. Определить промежутки, на котором f > 0\n",
    "\n",
    "7. Определить промежутки, на котором f < 0"
   ]
  },
  {
   "cell_type": "code",
   "execution_count": 1,
   "id": "0533612d",
   "metadata": {},
   "outputs": [],
   "source": [
    "from sympy import *\n",
    "from sympy.plotting import plot"
   ]
  },
  {
   "cell_type": "code",
   "execution_count": 2,
   "id": "4dfe7eaa",
   "metadata": {},
   "outputs": [
    {
     "name": "stdout",
     "output_type": "stream",
     "text": [
      "(1-5.385164807134504j) (1+5.385164807134504j)\n"
     ]
    }
   ],
   "source": [
    "# 1. Определить корни \n",
    "x = Symbol('x')\n",
    "func=-5*x**2+10*x-150\n",
    "y=solve(func)\n",
    "x1=complex(y[0])\n",
    "x2=complex(y[1])\n",
    "print(x1,x2)"
   ]
  },
  {
   "cell_type": "code",
   "execution_count": 3,
   "id": "daaaf7af",
   "metadata": {},
   "outputs": [
    {
     "name": "stdout",
     "output_type": "stream",
     "text": [
      "(-oo < x) & (x < 1)\n"
     ]
    }
   ],
   "source": [
    "# 2. Найти интервалы, на которых функция возрастает\n",
    "\n",
    "fd=diff(func)\n",
    "print(solve(0<fd))"
   ]
  },
  {
   "cell_type": "code",
   "execution_count": 4,
   "id": "f4dd8eae",
   "metadata": {},
   "outputs": [
    {
     "name": "stdout",
     "output_type": "stream",
     "text": [
      "(1 < x) & (x < oo)\n"
     ]
    }
   ],
   "source": [
    "# 3. Найти интервалы, на которых функция убывает\n",
    "print(solve(0>fd))"
   ]
  },
  {
   "cell_type": "code",
   "execution_count": 5,
   "id": "c27b7464",
   "metadata": {},
   "outputs": [
    {
     "name": "stdout",
     "output_type": "stream",
     "text": [
      "1 -145\n"
     ]
    }
   ],
   "source": [
    "# 5. Вычислить вершину\n",
    "roots=solve(fd)\n",
    "x=roots[0]\n",
    "y=-5*x**2+10*x-150\n",
    "print(x,y)"
   ]
  },
  {
   "cell_type": "code",
   "execution_count": 6,
   "id": "a4bd759e",
   "metadata": {},
   "outputs": [
    {
     "name": "stdout",
     "output_type": "stream",
     "text": [
      "   -150 |                         ...........                   \n",
      "        |                      ...           ...                \n",
      "        |                   ...                 ..              \n",
      "        |                  /                      ..            \n",
      "        |                ..                         \\           \n",
      "        |              ..                            ..         \n",
      "        |             /                                \\        \n",
      "        |            /                                  ..      \n",
      "        |           /                                     \\     \n",
      "        |          /                                       \\    \n",
      "   -450 |---------/-----------------------------------------\\---\n",
      "        |        /                                           \\  \n",
      "        |       /                                             \\ \n",
      "        |      /                                               \\\n",
      "        |     /                                                 \n",
      "        |    /                                                  \n",
      "        |   /                                                   \n",
      "        |  .                                                    \n",
      "        |                                                       \n",
      "        | .                                                     \n",
      "   -750 |_______________________________________________________\n",
      "         -10                        0                          10\n"
     ]
    },
    {
     "data": {
      "text/plain": [
       "<sympy.plotting.plot.Plot at 0x18c3a797510>"
      ]
     },
     "execution_count": 6,
     "metadata": {},
     "output_type": "execute_result"
    }
   ],
   "source": [
    "# 4. Построить график\n",
    "plot(func)"
   ]
  },
  {
   "cell_type": "code",
   "execution_count": 7,
   "id": "64cdf7bb",
   "metadata": {},
   "outputs": [
    {
     "data": {
      "text/latex": [
       "$\\displaystyle \\text{False}$"
      ],
      "text/plain": [
       "False"
      ]
     },
     "execution_count": 7,
     "metadata": {},
     "output_type": "execute_result"
    }
   ],
   "source": [
    "# 6 Определить промежутки, на котором f > 0\n",
    "\n",
    "solve(0<func)"
   ]
  },
  {
   "cell_type": "code",
   "execution_count": 8,
   "id": "31696015",
   "metadata": {},
   "outputs": [
    {
     "data": {
      "text/latex": [
       "$\\displaystyle -\\infty < x \\wedge x < \\infty$"
      ],
      "text/plain": [
       "(-oo < x) & (x < oo)"
      ]
     },
     "execution_count": 8,
     "metadata": {},
     "output_type": "execute_result"
    }
   ],
   "source": [
    "# 7 Определить промежутки, на котором f < 0\n",
    "\n",
    "solve(func<0)"
   ]
  },
  {
   "cell_type": "code",
   "execution_count": null,
   "id": "b04d3799",
   "metadata": {},
   "outputs": [],
   "source": []
  }
 ],
 "metadata": {
  "kernelspec": {
   "display_name": "Python 3 (ipykernel)",
   "language": "python",
   "name": "python3"
  },
  "language_info": {
   "codemirror_mode": {
    "name": "ipython",
    "version": 3
   },
   "file_extension": ".py",
   "mimetype": "text/x-python",
   "name": "python",
   "nbconvert_exporter": "python",
   "pygments_lexer": "ipython3",
   "version": "3.11.1"
  }
 },
 "nbformat": 4,
 "nbformat_minor": 5
}
